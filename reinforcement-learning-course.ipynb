{
 "cells": [
  {
   "cell_type": "code",
   "execution_count": 1,
   "id": "aaf44d53",
   "metadata": {},
   "outputs": [
    {
     "data": {
      "text/plain": [
       "<pyvirtualdisplay.display.Display at 0x7f31c41202e0>"
      ]
     },
     "execution_count": 1,
     "metadata": {},
     "output_type": "execute_result"
    }
   ],
   "source": [
    "from pyvirtualdisplay import Display\n",
    "\n",
    "virtual_display = Display(visible=0, size=(1400, 900))\n",
    "virtual_display.start()"
   ]
  },
  {
   "cell_type": "code",
   "execution_count": 2,
   "id": "0030e587",
   "metadata": {},
   "outputs": [],
   "source": [
    "from huggingface_sb3 import load_from_hub, package_to_hub, push_to_hub\n",
    "from huggingface_hub import (\n",
    "    notebook_login,\n",
    ")  # To log to our Hugging Face account to be able to upload models to the Hub.\n",
    "\n",
    "from stable_baselines3 import PPO\n",
    "from stable_baselines3.common.evaluation import evaluate_policy\n",
    "from stable_baselines3.common.env_util import make_vec_env"
   ]
  },
  {
   "cell_type": "code",
   "execution_count": 3,
   "id": "638429f5",
   "metadata": {},
   "outputs": [
    {
     "name": "stdout",
     "output_type": "stream",
     "text": [
      "Action taken: 1\n",
      "Action taken: 2\n",
      "Action taken: 1\n",
      "Action taken: 1\n",
      "Action taken: 0\n",
      "Action taken: 0\n",
      "Action taken: 1\n",
      "Action taken: 0\n",
      "Action taken: 0\n",
      "Action taken: 1\n",
      "Action taken: 3\n",
      "Action taken: 2\n",
      "Action taken: 2\n",
      "Action taken: 3\n",
      "Action taken: 0\n",
      "Action taken: 0\n",
      "Action taken: 0\n",
      "Action taken: 2\n",
      "Action taken: 3\n",
      "Action taken: 0\n"
     ]
    }
   ],
   "source": [
    "import gym\n",
    "\n",
    "env = gym.make(\"LunarLander-v2\")\n",
    "\n",
    "observation = env.reset()\n",
    "\n",
    "for _ in range(20):\n",
    "    action = env.action_space.sample()\n",
    "    print(\"Action taken:\", action)\n",
    "    observation, reward, done, info = env.step(action)\n",
    "\n",
    "    # If the game is done (in our case we land, crashed or timeout)\n",
    "    if done:\n",
    "        # Reset the environment\n",
    "        print(\"Environment is reset\")\n",
    "        observation = env.reset()"
   ]
  },
  {
   "cell_type": "code",
   "execution_count": 4,
   "id": "df825ba9",
   "metadata": {},
   "outputs": [
    {
     "name": "stdout",
     "output_type": "stream",
     "text": [
      "_____OBSERVATION SPACE_____ \n",
      "\n",
      "Observation Space Shape (8,)\n",
      "Sample observation [-0.16688778 -0.8171149  -1.9855578   1.1049505   1.3146126   1.0927577\n",
      " -0.859447    2.2486355 ]\n"
     ]
    }
   ],
   "source": [
    "env = gym.make(\"LunarLander-v2\")\n",
    "env.reset()\n",
    "print(\"_____OBSERVATION SPACE_____ \\n\")\n",
    "print(\"Observation Space Shape\", env.observation_space.shape)\n",
    "print(\"Sample observation\", env.observation_space.sample()) "
   ]
  },
  {
   "cell_type": "code",
   "execution_count": null,
   "id": "4a9ca803",
   "metadata": {},
   "outputs": [],
   "source": []
  }
 ],
 "metadata": {
  "kernelspec": {
   "display_name": "deep-rl-exercises",
   "language": "python",
   "name": "deep-rl-exercises"
  },
  "language_info": {
   "codemirror_mode": {
    "name": "ipython",
    "version": 3
   },
   "file_extension": ".py",
   "mimetype": "text/x-python",
   "name": "python",
   "nbconvert_exporter": "python",
   "pygments_lexer": "ipython3",
   "version": "3.9.16"
  }
 },
 "nbformat": 4,
 "nbformat_minor": 5
}
